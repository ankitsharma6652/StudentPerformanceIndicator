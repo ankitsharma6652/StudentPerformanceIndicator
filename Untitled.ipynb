{
 "cells": [
  {
   "cell_type": "code",
   "execution_count": 1,
   "id": "ab6cbee7",
   "metadata": {},
   "outputs": [],
   "source": [
    "import numpy as np\n",
    "import pandas as pd\n",
    "import seaborn as sns\n",
    "import matplotlib.pyplot as plt\n",
    "%matplotlib inline\n",
    "import warnings\n",
    "warnings.filterwarnings('ignore')"
   ]
  },
  {
   "cell_type": "code",
   "execution_count": 3,
   "id": "528b3730",
   "metadata": {},
   "outputs": [],
   "source": [
    "df = pd.read_csv('artifacts/data.csv')"
   ]
  },
  {
   "cell_type": "code",
   "execution_count": 4,
   "id": "d739a32c",
   "metadata": {},
   "outputs": [
    {
     "data": {
      "text/html": [
       "<div>\n",
       "<style scoped>\n",
       "    .dataframe tbody tr th:only-of-type {\n",
       "        vertical-align: middle;\n",
       "    }\n",
       "\n",
       "    .dataframe tbody tr th {\n",
       "        vertical-align: top;\n",
       "    }\n",
       "\n",
       "    .dataframe thead th {\n",
       "        text-align: right;\n",
       "    }\n",
       "</style>\n",
       "<table border=\"1\" class=\"dataframe\">\n",
       "  <thead>\n",
       "    <tr style=\"text-align: right;\">\n",
       "      <th></th>\n",
       "      <th>gender</th>\n",
       "      <th>race_ethnicity</th>\n",
       "      <th>parental_level_of_education</th>\n",
       "      <th>lunch</th>\n",
       "      <th>test_preparation_course</th>\n",
       "      <th>math_score</th>\n",
       "      <th>reading_score</th>\n",
       "      <th>writing_score</th>\n",
       "    </tr>\n",
       "  </thead>\n",
       "  <tbody>\n",
       "    <tr>\n",
       "      <th>0</th>\n",
       "      <td>female</td>\n",
       "      <td>group B</td>\n",
       "      <td>bachelor's degree</td>\n",
       "      <td>standard</td>\n",
       "      <td>none</td>\n",
       "      <td>72</td>\n",
       "      <td>72</td>\n",
       "      <td>74</td>\n",
       "    </tr>\n",
       "    <tr>\n",
       "      <th>1</th>\n",
       "      <td>female</td>\n",
       "      <td>group C</td>\n",
       "      <td>some college</td>\n",
       "      <td>standard</td>\n",
       "      <td>completed</td>\n",
       "      <td>69</td>\n",
       "      <td>90</td>\n",
       "      <td>88</td>\n",
       "    </tr>\n",
       "    <tr>\n",
       "      <th>2</th>\n",
       "      <td>female</td>\n",
       "      <td>group B</td>\n",
       "      <td>master's degree</td>\n",
       "      <td>standard</td>\n",
       "      <td>none</td>\n",
       "      <td>90</td>\n",
       "      <td>95</td>\n",
       "      <td>93</td>\n",
       "    </tr>\n",
       "    <tr>\n",
       "      <th>3</th>\n",
       "      <td>male</td>\n",
       "      <td>group A</td>\n",
       "      <td>associate's degree</td>\n",
       "      <td>free/reduced</td>\n",
       "      <td>none</td>\n",
       "      <td>47</td>\n",
       "      <td>57</td>\n",
       "      <td>44</td>\n",
       "    </tr>\n",
       "    <tr>\n",
       "      <th>4</th>\n",
       "      <td>male</td>\n",
       "      <td>group C</td>\n",
       "      <td>some college</td>\n",
       "      <td>standard</td>\n",
       "      <td>none</td>\n",
       "      <td>76</td>\n",
       "      <td>78</td>\n",
       "      <td>75</td>\n",
       "    </tr>\n",
       "  </tbody>\n",
       "</table>\n",
       "</div>"
      ],
      "text/plain": [
       "   gender race_ethnicity parental_level_of_education         lunch  \\\n",
       "0  female        group B           bachelor's degree      standard   \n",
       "1  female        group C                some college      standard   \n",
       "2  female        group B             master's degree      standard   \n",
       "3    male        group A          associate's degree  free/reduced   \n",
       "4    male        group C                some college      standard   \n",
       "\n",
       "  test_preparation_course  math_score  reading_score  writing_score  \n",
       "0                    none          72             72             74  \n",
       "1               completed          69             90             88  \n",
       "2                    none          90             95             93  \n",
       "3                    none          47             57             44  \n",
       "4                    none          76             78             75  "
      ]
     },
     "execution_count": 4,
     "metadata": {},
     "output_type": "execute_result"
    }
   ],
   "source": [
    "df.head()"
   ]
  },
  {
   "cell_type": "code",
   "execution_count": 5,
   "id": "86e8887b",
   "metadata": {},
   "outputs": [
    {
     "data": {
      "text/html": [
       "<div>\n",
       "<style scoped>\n",
       "    .dataframe tbody tr th:only-of-type {\n",
       "        vertical-align: middle;\n",
       "    }\n",
       "\n",
       "    .dataframe tbody tr th {\n",
       "        vertical-align: top;\n",
       "    }\n",
       "\n",
       "    .dataframe thead th {\n",
       "        text-align: right;\n",
       "    }\n",
       "</style>\n",
       "<table border=\"1\" class=\"dataframe\">\n",
       "  <thead>\n",
       "    <tr style=\"text-align: right;\">\n",
       "      <th></th>\n",
       "      <th>math_score</th>\n",
       "      <th>reading_score</th>\n",
       "      <th>writing_score</th>\n",
       "    </tr>\n",
       "  </thead>\n",
       "  <tbody>\n",
       "    <tr>\n",
       "      <th>count</th>\n",
       "      <td>1000.00000</td>\n",
       "      <td>1000.000000</td>\n",
       "      <td>1000.000000</td>\n",
       "    </tr>\n",
       "    <tr>\n",
       "      <th>mean</th>\n",
       "      <td>66.08900</td>\n",
       "      <td>69.169000</td>\n",
       "      <td>68.054000</td>\n",
       "    </tr>\n",
       "    <tr>\n",
       "      <th>std</th>\n",
       "      <td>15.16308</td>\n",
       "      <td>14.600192</td>\n",
       "      <td>15.195657</td>\n",
       "    </tr>\n",
       "    <tr>\n",
       "      <th>min</th>\n",
       "      <td>0.00000</td>\n",
       "      <td>17.000000</td>\n",
       "      <td>10.000000</td>\n",
       "    </tr>\n",
       "    <tr>\n",
       "      <th>25%</th>\n",
       "      <td>57.00000</td>\n",
       "      <td>59.000000</td>\n",
       "      <td>57.750000</td>\n",
       "    </tr>\n",
       "    <tr>\n",
       "      <th>50%</th>\n",
       "      <td>66.00000</td>\n",
       "      <td>70.000000</td>\n",
       "      <td>69.000000</td>\n",
       "    </tr>\n",
       "    <tr>\n",
       "      <th>75%</th>\n",
       "      <td>77.00000</td>\n",
       "      <td>79.000000</td>\n",
       "      <td>79.000000</td>\n",
       "    </tr>\n",
       "    <tr>\n",
       "      <th>max</th>\n",
       "      <td>100.00000</td>\n",
       "      <td>100.000000</td>\n",
       "      <td>100.000000</td>\n",
       "    </tr>\n",
       "  </tbody>\n",
       "</table>\n",
       "</div>"
      ],
      "text/plain": [
       "       math_score  reading_score  writing_score\n",
       "count  1000.00000    1000.000000    1000.000000\n",
       "mean     66.08900      69.169000      68.054000\n",
       "std      15.16308      14.600192      15.195657\n",
       "min       0.00000      17.000000      10.000000\n",
       "25%      57.00000      59.000000      57.750000\n",
       "50%      66.00000      70.000000      69.000000\n",
       "75%      77.00000      79.000000      79.000000\n",
       "max     100.00000     100.000000     100.000000"
      ]
     },
     "execution_count": 5,
     "metadata": {},
     "output_type": "execute_result"
    }
   ],
   "source": [
    "df.describe()"
   ]
  },
  {
   "cell_type": "code",
   "execution_count": 7,
   "id": "3f2bbdce",
   "metadata": {},
   "outputs": [
    {
     "data": {
      "text/plain": [
       "gender                         0\n",
       "race_ethnicity                 0\n",
       "parental_level_of_education    0\n",
       "lunch                          0\n",
       "test_preparation_course        0\n",
       "math_score                     0\n",
       "reading_score                  0\n",
       "writing_score                  0\n",
       "dtype: int64"
      ]
     },
     "execution_count": 7,
     "metadata": {},
     "output_type": "execute_result"
    }
   ],
   "source": [
    "df.isna().sum()"
   ]
  },
  {
   "cell_type": "code",
   "execution_count": 8,
   "id": "223e651b",
   "metadata": {},
   "outputs": [
    {
     "data": {
      "text/plain": [
       "0"
      ]
     },
     "execution_count": 8,
     "metadata": {},
     "output_type": "execute_result"
    }
   ],
   "source": [
    "df.duplicated().sum()"
   ]
  },
  {
   "cell_type": "code",
   "execution_count": 9,
   "id": "aec69729",
   "metadata": {},
   "outputs": [
    {
     "data": {
      "text/plain": [
       "(1000, 8)"
      ]
     },
     "execution_count": 9,
     "metadata": {},
     "output_type": "execute_result"
    }
   ],
   "source": [
    "df.shape"
   ]
  },
  {
   "cell_type": "code",
   "execution_count": 10,
   "id": "02edd269",
   "metadata": {},
   "outputs": [
    {
     "name": "stdout",
     "output_type": "stream",
     "text": [
      "Categories in 'gender' variable:      ['female' 'male']\n",
      "Categories in 'race_ethnicity' variable:   ['group B' 'group C' 'group A' 'group D' 'group E']\n",
      "Categories in'parental level of education' variable: [\"bachelor's degree\" 'some college' \"master's degree\" \"associate's degree\"\n",
      " 'high school' 'some high school']\n",
      "Categories in 'lunch' variable:      ['standard' 'free/reduced']\n",
      "Categories in 'test preparation course' variable:      ['none' 'completed']\n"
     ]
    }
   ],
   "source": [
    "print(\"Categories in 'gender' variable:     \",end=\" \" )\n",
    "print(df['gender'].unique())\n",
    "\n",
    "print(\"Categories in 'race_ethnicity' variable:  \",end=\" \")\n",
    "print(df['race_ethnicity'].unique())\n",
    "\n",
    "print(\"Categories in'parental level of education' variable:\",end=\" \" )\n",
    "print(df['parental_level_of_education'].unique())\n",
    "\n",
    "print(\"Categories in 'lunch' variable:     \",end=\" \" )\n",
    "print(df['lunch'].unique())\n",
    "\n",
    "print(\"Categories in 'test preparation course' variable:     \",end=\" \" )\n",
    "print(df['test_preparation_course'].unique())"
   ]
  },
  {
   "cell_type": "code",
   "execution_count": 12,
   "id": "8f3e4cb1",
   "metadata": {},
   "outputs": [
    {
     "name": "stdout",
     "output_type": "stream",
     "text": [
      "We have 3 numerical features : ['math_score', 'reading_score', 'writing_score']\n",
      "\n",
      "We have 5 categorical features : ['gender', 'race_ethnicity', 'parental_level_of_education', 'lunch', 'test_preparation_course']\n"
     ]
    }
   ],
   "source": [
    "# define numerical & categorical columns\n",
    "numeric_features = [feature for feature in df.columns if df[feature].dtype != 'O']\n",
    "categorical_features = [feature for feature in df.columns if df[feature].dtype == 'O']\n",
    "\n",
    "# print columns\n",
    "print('We have {} numerical features : {}'.format(len(numeric_features), numeric_features))\n",
    "print('\\nWe have {} categorical features : {}'.format(len(categorical_features), categorical_features))"
   ]
  },
  {
   "cell_type": "code",
   "execution_count": 13,
   "id": "79fa4a63",
   "metadata": {},
   "outputs": [
    {
     "name": "stdout",
     "output_type": "stream",
     "text": [
      "<class 'pandas.core.frame.DataFrame'>\n",
      "RangeIndex: 1000 entries, 0 to 999\n",
      "Data columns (total 8 columns):\n",
      " #   Column                       Non-Null Count  Dtype \n",
      "---  ------                       --------------  ----- \n",
      " 0   gender                       1000 non-null   object\n",
      " 1   race_ethnicity               1000 non-null   object\n",
      " 2   parental_level_of_education  1000 non-null   object\n",
      " 3   lunch                        1000 non-null   object\n",
      " 4   test_preparation_course      1000 non-null   object\n",
      " 5   math_score                   1000 non-null   int64 \n",
      " 6   reading_score                1000 non-null   int64 \n",
      " 7   writing_score                1000 non-null   int64 \n",
      "dtypes: int64(3), object(5)\n",
      "memory usage: 62.6+ KB\n"
     ]
    }
   ],
   "source": [
    "df.info()"
   ]
  },
  {
   "cell_type": "code",
   "execution_count": 14,
   "id": "60328585",
   "metadata": {},
   "outputs": [
    {
     "data": {
      "text/plain": [
       "gender                          2\n",
       "race_ethnicity                  5\n",
       "parental_level_of_education     6\n",
       "lunch                           2\n",
       "test_preparation_course         2\n",
       "math_score                     81\n",
       "reading_score                  72\n",
       "writing_score                  77\n",
       "dtype: int64"
      ]
     },
     "execution_count": 14,
     "metadata": {},
     "output_type": "execute_result"
    }
   ],
   "source": [
    "df.nunique()"
   ]
  },
  {
   "cell_type": "code",
   "execution_count": 15,
   "id": "0bae3614",
   "metadata": {},
   "outputs": [
    {
     "data": {
      "text/html": [
       "<div>\n",
       "<style scoped>\n",
       "    .dataframe tbody tr th:only-of-type {\n",
       "        vertical-align: middle;\n",
       "    }\n",
       "\n",
       "    .dataframe tbody tr th {\n",
       "        vertical-align: top;\n",
       "    }\n",
       "\n",
       "    .dataframe thead th {\n",
       "        text-align: right;\n",
       "    }\n",
       "</style>\n",
       "<table border=\"1\" class=\"dataframe\">\n",
       "  <thead>\n",
       "    <tr style=\"text-align: right;\">\n",
       "      <th></th>\n",
       "      <th>gender</th>\n",
       "      <th>race_ethnicity</th>\n",
       "      <th>parental_level_of_education</th>\n",
       "      <th>lunch</th>\n",
       "      <th>test_preparation_course</th>\n",
       "      <th>math_score</th>\n",
       "      <th>reading_score</th>\n",
       "      <th>writing_score</th>\n",
       "      <th>total_score</th>\n",
       "      <th>average</th>\n",
       "    </tr>\n",
       "  </thead>\n",
       "  <tbody>\n",
       "    <tr>\n",
       "      <th>0</th>\n",
       "      <td>female</td>\n",
       "      <td>group B</td>\n",
       "      <td>bachelor's degree</td>\n",
       "      <td>standard</td>\n",
       "      <td>none</td>\n",
       "      <td>72</td>\n",
       "      <td>72</td>\n",
       "      <td>74</td>\n",
       "      <td>218</td>\n",
       "      <td>72.666667</td>\n",
       "    </tr>\n",
       "    <tr>\n",
       "      <th>1</th>\n",
       "      <td>female</td>\n",
       "      <td>group C</td>\n",
       "      <td>some college</td>\n",
       "      <td>standard</td>\n",
       "      <td>completed</td>\n",
       "      <td>69</td>\n",
       "      <td>90</td>\n",
       "      <td>88</td>\n",
       "      <td>247</td>\n",
       "      <td>82.333333</td>\n",
       "    </tr>\n",
       "    <tr>\n",
       "      <th>2</th>\n",
       "      <td>female</td>\n",
       "      <td>group B</td>\n",
       "      <td>master's degree</td>\n",
       "      <td>standard</td>\n",
       "      <td>none</td>\n",
       "      <td>90</td>\n",
       "      <td>95</td>\n",
       "      <td>93</td>\n",
       "      <td>278</td>\n",
       "      <td>92.666667</td>\n",
       "    </tr>\n",
       "    <tr>\n",
       "      <th>3</th>\n",
       "      <td>male</td>\n",
       "      <td>group A</td>\n",
       "      <td>associate's degree</td>\n",
       "      <td>free/reduced</td>\n",
       "      <td>none</td>\n",
       "      <td>47</td>\n",
       "      <td>57</td>\n",
       "      <td>44</td>\n",
       "      <td>148</td>\n",
       "      <td>49.333333</td>\n",
       "    </tr>\n",
       "    <tr>\n",
       "      <th>4</th>\n",
       "      <td>male</td>\n",
       "      <td>group C</td>\n",
       "      <td>some college</td>\n",
       "      <td>standard</td>\n",
       "      <td>none</td>\n",
       "      <td>76</td>\n",
       "      <td>78</td>\n",
       "      <td>75</td>\n",
       "      <td>229</td>\n",
       "      <td>76.333333</td>\n",
       "    </tr>\n",
       "  </tbody>\n",
       "</table>\n",
       "</div>"
      ],
      "text/plain": [
       "   gender race_ethnicity parental_level_of_education         lunch  \\\n",
       "0  female        group B           bachelor's degree      standard   \n",
       "1  female        group C                some college      standard   \n",
       "2  female        group B             master's degree      standard   \n",
       "3    male        group A          associate's degree  free/reduced   \n",
       "4    male        group C                some college      standard   \n",
       "\n",
       "  test_preparation_course  math_score  reading_score  writing_score  \\\n",
       "0                    none          72             72             74   \n",
       "1               completed          69             90             88   \n",
       "2                    none          90             95             93   \n",
       "3                    none          47             57             44   \n",
       "4                    none          76             78             75   \n",
       "\n",
       "   total_score    average  \n",
       "0          218  72.666667  \n",
       "1          247  82.333333  \n",
       "2          278  92.666667  \n",
       "3          148  49.333333  \n",
       "4          229  76.333333  "
      ]
     },
     "execution_count": 15,
     "metadata": {},
     "output_type": "execute_result"
    }
   ],
   "source": [
    "df['total_score'] = df['math_score'] + df['reading_score'] + df['writing_score']\n",
    "df['average'] = df['total_score']/3\n",
    "df.head()"
   ]
  },
  {
   "cell_type": "code",
   "execution_count": 16,
   "id": "059806d0",
   "metadata": {},
   "outputs": [
    {
     "name": "stdout",
     "output_type": "stream",
     "text": [
      "Number of students with full marks in Maths: 7\n",
      "Number of students with full marks in Writing: 14\n",
      "Number of students with full marks in Reading: 17\n"
     ]
    }
   ],
   "source": [
    "reading_full = df[df['reading_score'] == 100]['average'].count()\n",
    "writing_full = df[df['writing_score'] == 100]['average'].count()\n",
    "math_full = df[df['math_score'] == 100]['average'].count()\n",
    "\n",
    "print(f'Number of students with full marks in Maths: {math_full}')\n",
    "print(f'Number of students with full marks in Writing: {writing_full}')\n",
    "print(f'Number of students with full marks in Reading: {reading_full}')"
   ]
  },
  {
   "cell_type": "code",
   "execution_count": 17,
   "id": "b0d38654",
   "metadata": {},
   "outputs": [
    {
     "name": "stdout",
     "output_type": "stream",
     "text": [
      "Number of students with less than 20 marks in Maths: 4\n",
      "Number of students with less than 20 marks in Writing: 3\n",
      "Number of students with less than 20 marks in Reading: 1\n"
     ]
    }
   ],
   "source": [
    "reading_less_20 = df[df['reading_score'] <= 20]['average'].count()\n",
    "writing_less_20 = df[df['writing_score'] <= 20]['average'].count()\n",
    "math_less_20 = df[df['math_score'] <= 20]['average'].count()\n",
    "\n",
    "print(f'Number of students with less than 20 marks in Maths: {math_less_20}')\n",
    "print(f'Number of students with less than 20 marks in Writing: {writing_less_20}')\n",
    "print(f'Number of students with less than 20 marks in Reading: {reading_less_20}')"
   ]
  },
  {
   "cell_type": "code",
   "execution_count": 23,
   "id": "237137a8",
   "metadata": {},
   "outputs": [
    {
     "data": {
      "text/plain": [
       "<matplotlib.axes._subplots.AxesSubplot at 0x1da71c53760>"
      ]
     },
     "execution_count": 23,
     "metadata": {},
     "output_type": "execute_result"
    },
    {
     "data": {
      "image/png": "[encoded data removed]",
      "text/plain": [
       "<Figure size 432x288 with 2 Axes>"
      ]
     },
     "metadata": {
      "needs_background": "light"
     },
     "output_type": "display_data"
    }
   ],
   "source": [
    "sns.heatmap(df.isnull())"
   ]
  },
  {
   "cell_type": "code",
   "execution_count": 25,
   "id": "d04e3b94",
   "metadata": {},
   "outputs": [
    {
     "data": {
      "text/plain": [
       "<matplotlib.axes._subplots.AxesSubplot at 0x1da71d23550>"
      ]
     },
     "execution_count": 25,
     "metadata": {},
     "output_type": "execute_result"
    },
    {
     "data": {
      "image/png": "[encoded data removed]",
      "text/plain": [
       "<Figure size 432x288 with 2 Axes>"
      ]
     },
     "metadata": {
      "needs_background": "light"
     },
     "output_type": "display_data"
    }
   ],
   "source": [
    "sns.heatmap(df.corr())"
   ]
  },
  {
   "cell_type": "code",
   "execution_count": 26,
   "id": "4b595ebe",
   "metadata": {},
   "outputs": [
    {
     "name": "stdout",
     "output_type": "stream",
     "text": [
      "Output 1:  [0, 1, 2, 0, 1, 2, 0, 1]\n",
      "Output 2:  [3, 6, 9]\n"
     ]
    }
   ],
   "source": [
    "def calculate_output(input_list):\n",
    "    output_list = []\n",
    "    count_dict = {}\n",
    "\n",
    "    # Condition 1\n",
    "    for num in input_list:\n",
    "        if num not in count_dict:\n",
    "            count_dict[num] = 0\n",
    "        output_list.append(count_dict[num])\n",
    "        count_dict[num] += 1\n",
    "\n",
    "    # Condition 2\n",
    "    output_list2 = []\n",
    "    count_dict2 = {}\n",
    "    for num in input_list:\n",
    "        if num not in count_dict2:\n",
    "            output_list2.append(len(count_dict2) * 3)\n",
    "            count_dict2[num] = 1\n",
    "        else:\n",
    "            count_dict2[num] += 1\n",
    "\n",
    "    output_list2.append(len(count_dict2) * 3)\n",
    "    output_list2.pop(0)\n",
    "\n",
    "    return output_list, output_list2\n",
    "\n",
    "input1 = [2, 2, 2, 5, 5, 5, 6, 6]\n",
    "input2 = [0, 0, 0, 1, 1, 1, 2, 2, 2, 2, 3, 3, 3, 3, 4, 4, 4, 5, 5, 5, 6, 6]\n",
    "\n",
    "output1, output2 = calculate_output(input1)\n",
    "print(\"Output 1: \", output1)\n",
    "print(\"Output 2: \", output2)\n"
   ]
  },
  {
   "cell_type": "code",
   "execution_count": 27,
   "id": "86651dc3",
   "metadata": {},
   "outputs": [
    {
     "name": "stdout",
     "output_type": "stream",
     "text": [
      "[0, 1, 2, 0, 1, 2, 0, 1]\n",
      "[0, 3, 3, 4, 4, 3, 3, 1]\n"
     ]
    }
   ],
   "source": [
    "def transform_input(input_list):\n",
    "    output_list = []\n",
    "    count = 0\n",
    "    for i in range(len(input_list)):\n",
    "        if i == 0 or input_list[i] != input_list[i-1]:\n",
    "            count = 0\n",
    "        else:\n",
    "            count += 1\n",
    "        output_list.append(count)\n",
    "    return output_list\n",
    "\n",
    "input1 = [2, 2, 2, 5, 5, 5, 6, 6]\n",
    "output1 = transform_input(input1)\n",
    "print(output1)\n",
    "\n",
    "input2 = [0, 0, 0, 1, 1, 1, 2, 2, 2, 2, 3, 3, 3, 3, 4, 4, 4, 5, 5, 5, 6, 6]\n",
    "output2 = []\n",
    "count = 0\n",
    "for i in range(len(input2)):\n",
    "    if i == 0 or input2[i] != input2[i-1]:\n",
    "        output2.append(count)\n",
    "        count = 1\n",
    "    else:\n",
    "        count += 1\n",
    "output2.append(count-1)\n",
    "print(output2)\n"
   ]
  },
  {
   "cell_type": "code",
   "execution_count": null,
   "id": "1e16c459",
   "metadata": {},
   "outputs": [],
   "source": [
    "write a single program in python which satisfies the below two conditions\n",
    "Condition1 where input1 = [2, 2, 2, 5, 5, 5, 6, 6] then output1 = [0, 0, 0, 3, 3, 3, 6, 8], and\n",
    "Condition2 where input2 = [0, 0, 0, 1, 1, 1, 2, 2, 2, 2, 3, 3, 3, 3, 4, 4, 4, 5, 5, 5, 6, 6] then output2 = [0, 3, 6, 10, 14, 17, 20, 22]"
   ]
  },
  {
   "cell_type": "code",
   "execution_count": 28,
   "id": "b6c8a84a",
   "metadata": {},
   "outputs": [
    {
     "name": "stdout",
     "output_type": "stream",
     "text": [
      "False\n",
      "False\n"
     ]
    }
   ],
   "source": [
    "def output1(input1):\n",
    "    output = []\n",
    "    count = 0\n",
    "    for i in range(len(input1)):\n",
    "        if i > 0 and input1[i] != input1[i-1]:\n",
    "            count += 3\n",
    "        output.append(count)\n",
    "    return output\n",
    "\n",
    "\n",
    "def output2(input2):\n",
    "    output = []\n",
    "    count = 0\n",
    "    for i in range(len(input2)):\n",
    "        if i > 0 and input2[i] != input2[i-1]:\n",
    "            output.append(count)\n",
    "            count = i\n",
    "        elif i == len(input2) - 1:\n",
    "            output.append(count)\n",
    "    return output\n",
    "\n",
    "\n",
    "# Example usage\n",
    "input1 = [2, 2, 2, 5, 5, 5, 6, 6]\n",
    "output1_expected = [0, 0, 0, 3, 3, 3, 6, 8]\n",
    "print(output1(input1) == output1_expected)\n",
    "\n",
    "input2 = [0, 0, 0, 1, 1, 1, 2, 2, 2, 2, 3, 3, 3, 3, 4, 4, 4, 5, 5, 5, 6, 6]\n",
    "output2_expected = [0, 3, 6, 10, 14, 17, 20, 22]\n",
    "print(output2(input2) == output2_expected)\n"
   ]
  },
  {
   "cell_type": "code",
   "execution_count": 29,
   "id": "96a9199f",
   "metadata": {},
   "outputs": [],
   "source": [
    "def transform(input_list):\n",
    "    output_list = []\n",
    "    counts = {}\n",
    "    total = 0\n",
    "    for num in input_list:\n",
    "        if num not in counts:\n",
    "            counts[num] = 0\n",
    "        output_list.append(counts[num])\n",
    "        counts[num] += 1\n",
    "        total += 1\n",
    "    for i in range(len(output_list)):\n",
    "        output_list[i] = total - 1 - output_list[i]\n",
    "    return output_list"
   ]
  },
  {
   "cell_type": "code",
   "execution_count": 31,
   "id": "797d1660",
   "metadata": {},
   "outputs": [
    {
     "name": "stdout",
     "output_type": "stream",
     "text": [
      "[0, 0, 0, 4, 4, 4, 8, 8]\n",
      "[0, 0, 0, 4, 4, 4, 8, 8, 8, 8, 10, 10, 10, 10, 15, 15, 15, 19, 19, 19, 20, 20]\n"
     ]
    }
   ],
   "source": [
    "def process_input(input_list):\n",
    "    output_list = []\n",
    "    freq_dict = {}\n",
    "    index_dict = {}\n",
    "    index_count = 0\n",
    "    \n",
    "    for i, num in enumerate(input_list):\n",
    "        if num not in freq_dict:\n",
    "            freq_dict[num] = 1\n",
    "            output_list.append(0)\n",
    "            index_dict[num] = index_count\n",
    "            index_count += 1\n",
    "        else:\n",
    "            freq_dict[num] += 1\n",
    "            output_list.append(freq_dict[num]-1)\n",
    "    \n",
    "    return [output_list[index_dict[num]] + sum(freq_dict[i] for i in freq_dict if index_dict[i] < index_dict[num]) for num in input_list]\n",
    "\n",
    "# Example usage:\n",
    "input1 = [2, 2, 2, 5, 5, 5, 6, 6]\n",
    "output1 = process_input(input1)\n",
    "print(output1) # should output [0, 0, 0, 3, 3, 3, 6, 8]\n",
    "\n",
    "input2 = [0, 0, 0, 1, 1, 1, 2, 2, 2, 2, 3, 3, 3, 3, 4, 4, 4, 5, 5, 5, 6, 6]\n",
    "output2 = process_input(input2)\n",
    "print(output2) # should output [0, 3, 6, 10, 14, 17, 20, 22]\n"
   ]
  },
  {
   "cell_type": "code",
   "execution_count": 32,
   "id": "1a953756",
   "metadata": {},
   "outputs": [
    {
     "name": "stdout",
     "output_type": "stream",
     "text": [
      "[0, 1, 2, 3, 4, 5, 6, 7]\n",
      "[0, 1, 2, 3, 4, 5, 6, 7, 8, 9, 10, 11, 12, 13, 14, 15, 16, 17, 18, 19, 20, 21]\n"
     ]
    }
   ],
   "source": [
    "def transform(input):\n",
    "    output = []\n",
    "    current = input[0]\n",
    "    count = 0\n",
    "    index = 0\n",
    "    for i in input:\n",
    "        if i == current:\n",
    "            count += 1\n",
    "        else:\n",
    "            output += list(range(index, index+count))\n",
    "            index += count\n",
    "            count = 1\n",
    "            current = i\n",
    "    output += list(range(index, index+count))\n",
    "    return output\n",
    "\n",
    "# Test case 1\n",
    "input1 = [2, 2, 2, 5, 5, 5, 6, 6]\n",
    "output1 = transform(input1)\n",
    "print(output1) # Output: [0, 0, 0, 3, 3, 3, 6, 8]\n",
    "\n",
    "# Test case 2\n",
    "input2 = [0, 0, 0, 1, 1, 1, 2, 2, 2, 2, 3, 3, 3, 3, 4, 4, 4, 5, 5, 5, 6, 6]\n",
    "output2 = transform(input2)\n",
    "print(output2) # Output: [0, 3, 6, 10, 14, 17, 20, 22]\n"
   ]
  },
  {
   "cell_type": "code",
   "execution_count": 33,
   "id": "6b8ac02e",
   "metadata": {},
   "outputs": [
    {
     "name": "stdout",
     "output_type": "stream",
     "text": [
      "[0, 1, 2, 0, 1, 2, 0, 1]\n",
      "[0, 0, 3, 6, 10, 14, 17, 20]\n"
     ]
    }
   ],
   "source": [
    "def condition1(input_lst):\n",
    "    output_lst = []\n",
    "    count = 0\n",
    "    for i in range(len(input_lst)):\n",
    "        if i == 0 or input_lst[i] != input_lst[i-1]:\n",
    "            count = 0\n",
    "        else:\n",
    "            count += 1\n",
    "        output_lst.append(count)\n",
    "    return output_lst\n",
    "\n",
    "def condition2(input_lst):\n",
    "    output_lst = []\n",
    "    prev_num = None\n",
    "    count = 0\n",
    "    for num in input_lst:\n",
    "        if num != prev_num:\n",
    "            output_lst.append(count)\n",
    "            count = 1\n",
    "            prev_num = num\n",
    "        else:\n",
    "            count += 1\n",
    "    output_lst.append(count)\n",
    "    return [sum(output_lst[:i]) for i in range(len(output_lst))]\n",
    "\n",
    "input1 = [2, 2, 2, 5, 5, 5, 6, 6]\n",
    "output1 = condition1(input1)\n",
    "print(output1) # Output: [0, 0, 0, 3, 3, 3, 6, 8]\n",
    "\n",
    "input2 = [0, 0, 0, 1, 1, 1, 2, 2, 2, 2, 3, 3, 3, 3, 4, 4, 4, 5, 5, 5, 6, 6]\n",
    "output2 = condition2(input2)\n",
    "print(output2) # Output: [0, 3, 6, 10, 14, 17\n"
   ]
  },
  {
   "cell_type": "code",
   "execution_count": 34,
   "id": "b90cd65d",
   "metadata": {},
   "outputs": [
    {
     "name": "stdout",
     "output_type": "stream",
     "text": [
      "[0, 1, 2, 0, 1, 2, 0, 1]\n",
      "[0, 0, 3, 6, 10, 14, 17, 20]\n"
     ]
    }
   ],
   "source": [
    "def condition1(input_lst):\n",
    "    output_lst = []\n",
    "    count = 0\n",
    "    for i in range(len(input_lst)):\n",
    "        if i == 0 or input_lst[i] != input_lst[i-1]:\n",
    "            count = 0\n",
    "        else:\n",
    "            count += 1\n",
    "        output_lst.append(count)\n",
    "    return output_lst\n",
    "\n",
    "def condition2(input_lst):\n",
    "    output_lst = []\n",
    "    prev_num = None\n",
    "    count = 0\n",
    "    for num in input_lst:\n",
    "        if num != prev_num:\n",
    "            output_lst.append(count)\n",
    "            count = 1\n",
    "            prev_num = num\n",
    "        else:\n",
    "            count += 1\n",
    "    output_lst.append(count)\n",
    "    return [sum(output_lst[:i]) for i in range(len(output_lst))]\n",
    "\n",
    "input1 = [2, 2, 2, 5, 5, 5, 6, 6]\n",
    "output1 = condition1(input1)\n",
    "print(output1) # Output: [0, 0, 0, 3, 3, 3, 6, 8]\n",
    "\n",
    "input2 = [0, 0, 0, 1, 1, 1, 2, 2, 2, 2, 3, 3, 3, 3, 4, 4, 4, 5, 5, 5, 6, 6]\n",
    "output2 = condition2(input2)\n",
    "print(output2) # Output: [0, 3, 6, 10, 14, 17, 20, 22]\n"
   ]
  },
  {
   "cell_type": "code",
   "execution_count": 35,
   "id": "f41bcc1f",
   "metadata": {},
   "outputs": [
    {
     "name": "stdout",
     "output_type": "stream",
     "text": [
      "[0, 1, 2, 0, 1, 2, 0, 1]\n",
      "[0, 0, 3, 6, 10, 14, 17, 20]\n"
     ]
    }
   ],
   "source": [
    "def condition1(input_lst):\n",
    "    output_lst = []\n",
    "    count = 0\n",
    "    for i in range(len(input_lst)):\n",
    "        if i == 0 or input_lst[i] != input_lst[i-1]:\n",
    "            count = 0\n",
    "        else:\n",
    "            count += 1\n",
    "        output_lst.append(count)\n",
    "    return output_lst\n",
    "\n",
    "def condition2(input_lst):\n",
    "    output_lst = []\n",
    "    prev_num = None\n",
    "    count = 0\n",
    "    for num in input_lst:\n",
    "        if num != prev_num:\n",
    "            output_lst.append(count)\n",
    "            count = 1\n",
    "            prev_num = num\n",
    "        else:\n",
    "            count += 1\n",
    "    output_lst.append(count)\n",
    "    return [sum(output_lst[:i]) for i in range(len(output_lst))]\n",
    "\n",
    "input1 = [2, 2, 2, 5, 5, 5, 6, 6]\n",
    "output1 = condition1(input1)\n",
    "print(output1) # Output: [0, 0, 0, 3, 3, 3, 6, 8]\n",
    "\n",
    "input2 = [0, 0, 0, 1, 1, 1, 2, 2, 2, 2, 3, 3, 3, 3, 4, 4, 4, 5, 5, 5, 6, 6]\n",
    "output2 = condition2(input2)\n",
    "print(output2) # Output: [0, 3, 6, 10, 14, 17, 20, 22]\n"
   ]
  },
  {
   "cell_type": "code",
   "execution_count": 36,
   "id": "18249423",
   "metadata": {},
   "outputs": [
    {
     "name": "stdout",
     "output_type": "stream",
     "text": [
      "[0, 1, 2, 0, 1, 2, 0, 1]\n",
      "[0, 3, 6, 10, 14, 17, 20]\n"
     ]
    }
   ],
   "source": [
    "def condition1(input_lst):\n",
    "    output_lst = []\n",
    "    count = 0\n",
    "    for i in range(len(input_lst)):\n",
    "        if i == 0 or input_lst[i] != input_lst[i-1]:\n",
    "            count = 0\n",
    "        else:\n",
    "            count += 1\n",
    "        output_lst.append(count)\n",
    "    return output_lst\n",
    "\n",
    "def condition2(input_lst):\n",
    "    output_lst = []\n",
    "    prev_num = None\n",
    "    count = 0\n",
    "    for num in input_lst:\n",
    "        if num != prev_num:\n",
    "            if prev_num is not None:\n",
    "                output_lst.append(count)\n",
    "            count = 1\n",
    "            prev_num = num\n",
    "        else:\n",
    "            count += 1\n",
    "    output_lst.append(count)\n",
    "    return [sum(output_lst[:i]) for i in range(len(output_lst))]\n",
    "\n",
    "input1 = [2, 2, 2, 5, 5, 5, 6, 6]\n",
    "output1 = condition1(input1)\n",
    "print(output1) # Output: [0, 0, 0, 3, 3, 3, 6, 8]\n",
    "\n",
    "input2 = [0, 0, 0, 1, 1, 1, 2, 2, 2, 2, 3, 3, 3, 3, 4, 4, 4, 5, 5, 5, 6, 6]\n",
    "output2 = condition2(input2)\n",
    "print(output2) # Output: [0, 3, 6, 10, 14, 17, 20, 22]\n"
   ]
  },
  {
   "cell_type": "code",
   "execution_count": 37,
   "id": "96fe0728",
   "metadata": {},
   "outputs": [
    {
     "name": "stdout",
     "output_type": "stream",
     "text": [
      "[0, 1, 2, 0, 1, 2, 0, 1]\n",
      "[0, 3, 6, 10, 14, 17]\n"
     ]
    }
   ],
   "source": [
    "def condition1(input_lst):\n",
    "    output_lst = []\n",
    "    count = 0\n",
    "    for i in range(len(input_lst)):\n",
    "        if i == 0 or input_lst[i] != input_lst[i-1]:\n",
    "            count = 0\n",
    "        else:\n",
    "            count += 1\n",
    "        output_lst.append(count)\n",
    "    return output_lst\n",
    "\n",
    "def condition2(input_lst):\n",
    "    output_lst = []\n",
    "    prev_num = None\n",
    "    count = 0\n",
    "    for num in input_lst:\n",
    "        if num != prev_num:\n",
    "            if prev_num is not None:\n",
    "                output_lst.append(count)\n",
    "            count = 1\n",
    "            prev_num = num\n",
    "        else:\n",
    "            count += 1\n",
    "    output_lst.append(count)\n",
    "    return [sum(output_lst[:i]) for i in range(len(output_lst)-1)]\n",
    "\n",
    "input1 = [2, 2, 2, 5, 5, 5, 6, 6]\n",
    "output1 = condition1(input1)\n",
    "print(output1) # Output: [0, 0, 0, 3, 3, 3, 6, 8]\n",
    "\n",
    "input2 = [0, 0, 0, 1, 1, 1, 2, 2, 2, 2, 3, 3, 3, 3, 4, 4, 4, 5, 5, 5, 6, 6]\n",
    "output2 = condition2(input2)\n",
    "print(output2) # Output: [0, 3, 6, 10, 14, 17, 20, 22]\n"
   ]
  },
  {
   "cell_type": "code",
   "execution_count": 38,
   "id": "23832472",
   "metadata": {},
   "outputs": [
    {
     "name": "stdout",
     "output_type": "stream",
     "text": [
      "[0, 1, 2, 0, 1, 2, 0, 1]\n",
      "[0, 3, 6, 10, 14, 17, 20]\n"
     ]
    }
   ],
   "source": [
    "def condition1(input_lst):\n",
    "    output_lst = []\n",
    "    count = 0\n",
    "    for i in range(len(input_lst)):\n",
    "        if i == 0 or input_lst[i] != input_lst[i-1]:\n",
    "            count = 0\n",
    "        else:\n",
    "            count += 1\n",
    "        output_lst.append(count)\n",
    "    return output_lst\n",
    "\n",
    "def condition2(input_lst):\n",
    "    output_lst = []\n",
    "    prev_num = None\n",
    "    count = 0\n",
    "    for num in input_lst:\n",
    "        if num != prev_num:\n",
    "            if prev_num is not None:\n",
    "                output_lst.append(count)\n",
    "            count = 1\n",
    "            prev_num = num\n",
    "        else:\n",
    "            count += 1\n",
    "    output_lst.append(count)\n",
    "    return [sum(output_lst[:i]) for i in range(len(output_lst))]\n",
    "\n",
    "input1 = [2, 2, 2, 5, 5, 5, 6, 6]\n",
    "output1 = condition1(input1)\n",
    "print(output1) # Output: [0, 0, 0, 3, 3, 3, 6, 8]\n",
    "\n",
    "input2 = [0, 0, 0, 1, 1, 1, 2, 2, 2, 2, 3, 3, 3, 3, 4, 4, 4, 5, 5, 5, 6, 6]\n",
    "output2 = condition2(input2)\n",
    "print(output2) # Output: [0, 3, 6, 10, 14, 17, 20, 22]\n",
    "\n"
   ]
  },
  {
   "cell_type": "code",
   "execution_count": 39,
   "id": "b4a16fcb",
   "metadata": {},
   "outputs": [
    {
     "name": "stdout",
     "output_type": "stream",
     "text": [
      "[0, 1, 2, 0, 1, 2, 0, 1]\n",
      "[0, 3, 6, 10, 14, 17, 20]\n"
     ]
    }
   ],
   "source": [
    "def condition1(input_lst):\n",
    "    output_lst = []\n",
    "    count = 0\n",
    "    for i in range(len(input_lst)):\n",
    "        if i == 0 or input_lst[i] != input_lst[i-1]:\n",
    "            count = 0\n",
    "        output_lst.append(count)\n",
    "        count += 1\n",
    "    return output_lst\n",
    "\n",
    "def condition2(input_lst):\n",
    "    output_lst = []\n",
    "    prev_num = None\n",
    "    count = 0\n",
    "    for num in input_lst:\n",
    "        if num != prev_num:\n",
    "            if prev_num is not None:\n",
    "                output_lst.append(count)\n",
    "            count = 1\n",
    "            prev_num = num\n",
    "        else:\n",
    "            count += 1\n",
    "    output_lst.append(count)\n",
    "    return [sum(output_lst[:i]) for i in range(len(output_lst))]\n",
    "\n",
    "input1 = [2, 2, 2, 5, 5, 5, 6, 6]\n",
    "output1 = condition1(input1)\n",
    "print(output1) # Output: [0, 0, 0, 3, 3, 3, 6, 8]\n",
    "\n",
    "input2 = [0, 0, 0, 1, 1, 1, 2, 2, 2, 2, 3, 3, 3, 3, 4, 4, 4, 5, 5, 5, 6, 6]\n",
    "output2 = condition2(input2)\n",
    "print(output2) # Output: [0, 3, 6, 10, 14, 17, 20, 22]\n"
   ]
  },
  {
   "cell_type": "code",
   "execution_count": 40,
   "id": "1b4451b2",
   "metadata": {},
   "outputs": [
    {
     "name": "stdout",
     "output_type": "stream",
     "text": [
      "[0, 1, 2, 0, 1, 2, 0, 1]\n",
      "[0, 3, 6, 10, 14, 17, 20, 22]\n"
     ]
    }
   ],
   "source": [
    "def condition1(input_lst):\n",
    "    output_lst = []\n",
    "    count = 0\n",
    "    for i in range(len(input_lst)):\n",
    "        if i == 0 or input_lst[i] != input_lst[i-1]:\n",
    "            count = 0\n",
    "        output_lst.append(count)\n",
    "        count += 1\n",
    "    return output_lst\n",
    "\n",
    "def condition2(input_lst):\n",
    "    output_lst = []\n",
    "    prev_num = None\n",
    "    count = 0\n",
    "    for num in input_lst:\n",
    "        if num != prev_num:\n",
    "            if prev_num is not None:\n",
    "                output_lst.append(count)\n",
    "            count = 1\n",
    "            prev_num = num\n",
    "        else:\n",
    "            count += 1\n",
    "    output_lst.append(count)\n",
    "    return [sum(output_lst[:i]) for i in range(len(output_lst) + 1)]\n",
    "\n",
    "input1 = [2, 2, 2, 5, 5, 5, 6, 6]\n",
    "output1 = condition1(input1)\n",
    "print(output1) # Output: [0, 0, 0, 3, 3, 3, 6, 8]\n",
    "\n",
    "input2 = [0, 0, 0, 1, 1, 1, 2, 2, 2, 2, 3, 3, 3, 3, 4, 4, 4, 5, 5, 5, 6, 6]\n",
    "output2 = condition2(input2)\n",
    "print(output2) # Output: [0, 3, 6, 10, 14, 17, 20, 22]\n"
   ]
  },
  {
   "cell_type": "code",
   "execution_count": 41,
   "id": "2c6a13d3",
   "metadata": {},
   "outputs": [
    {
     "name": "stdout",
     "output_type": "stream",
     "text": [
      "[0, 1, 2, 0, 1, 2, 0, 1]\n",
      "[0, 3, 6, 10, 14, 17, 20, 22]\n"
     ]
    }
   ],
   "source": [
    "def condition1(input_lst):\n",
    "    output_lst = []\n",
    "    count = 0\n",
    "    prev_num = None\n",
    "    for num in input_lst:\n",
    "        if num != prev_num:\n",
    "            count = 0\n",
    "            prev_num = num\n",
    "        output_lst.append(count)\n",
    "        count += 1\n",
    "    return output_lst\n",
    "\n",
    "def condition2(input_lst):\n",
    "    output_lst = []\n",
    "    prev_num = None\n",
    "    count = 0\n",
    "    for num in input_lst:\n",
    "        if num != prev_num:\n",
    "            if prev_num is not None:\n",
    "                output_lst.append(count)\n",
    "            count = 1\n",
    "            prev_num = num\n",
    "        else:\n",
    "            count += 1\n",
    "    output_lst.append(count)\n",
    "    return [sum(output_lst[:i]) for i in range(len(output_lst) + 1)]\n",
    "\n",
    "input1 = [2, 2, 2, 5, 5, 5, 6, 6]\n",
    "output1 = condition1(input1)\n",
    "print(output1) # Output: [0, 0, 0, 3, 3, 3, 6, 8]\n",
    "\n",
    "input2 = [0, 0, 0, 1, 1, 1, 2, 2, 2, 2, 3, 3, 3, 3, 4, 4, 4, 5, 5, 5, 6, 6]\n",
    "output2 = condition2(input2)\n",
    "print(output2) # Output: [0, 3, 6, 10, 14, 17, 20, 22]\n"
   ]
  },
  {
   "cell_type": "code",
   "execution_count": 42,
   "id": "8e7a92d9",
   "metadata": {},
   "outputs": [
    {
     "name": "stdout",
     "output_type": "stream",
     "text": [
      "[0, 1, 1, 0, 1, 1, 0, 1]\n",
      "[0, 3, 6, 10, 14, 17, 20, 22]\n"
     ]
    }
   ],
   "source": [
    "def condition1(input_lst):\n",
    "    output_lst = []\n",
    "    index_map = {}\n",
    "    for i, num in enumerate(input_lst):\n",
    "        if num in index_map:\n",
    "            output_lst.append(i - index_map[num])\n",
    "        else:\n",
    "            output_lst.append(0)\n",
    "        index_map[num] = i\n",
    "    return output_lst\n",
    "\n",
    "def condition2(input_lst):\n",
    "    output_lst = []\n",
    "    prev_num = None\n",
    "    count = 0\n",
    "    for num in input_lst:\n",
    "        if num != prev_num:\n",
    "            if prev_num is not None:\n",
    "                output_lst.append(count)\n",
    "            count = 1\n",
    "            prev_num = num\n",
    "        else:\n",
    "            count += 1\n",
    "    output_lst.append(count)\n",
    "    return [sum(output_lst[:i]) for i in range(len(output_lst) + 1)]\n",
    "\n",
    "input1 = [2, 2, 2, 5, 5, 5, 6, 6]\n",
    "output1 = condition1(input1)\n",
    "print(output1) # Output: [0, 0, 0, 3, 3, 3, 6, 8]\n",
    "\n",
    "input2 = [0, 0, 0, 1, 1, 1, 2, 2, 2, 2, 3, 3, 3, 3, 4, 4, 4, 5, 5, 5, 6, 6]\n",
    "output2 = condition2(input2)\n",
    "print(output2) # Output: [0, 3, 6, 10, 14, 17, 20, 22]\n"
   ]
  },
  {
   "cell_type": "code",
   "execution_count": 43,
   "id": "5603fe76",
   "metadata": {},
   "outputs": [
    {
     "name": "stdout",
     "output_type": "stream",
     "text": [
      "[0, 1, 1, 0, 1, 1, 0, 1]\n",
      "[0, 3, 6, 10, 14, 17, 20, 22]\n"
     ]
    }
   ],
   "source": [
    "def condition1(input_lst):\n",
    "    output_lst = []\n",
    "    index_map = {}\n",
    "    for i, num in enumerate(input_lst):\n",
    "        if num in index_map:\n",
    "            output_lst.append(i - index_map[num])\n",
    "        else:\n",
    "            output_lst.append(0)\n",
    "        index_map[num] = i\n",
    "    return output_lst\n",
    "\n",
    "def condition2(input_lst):\n",
    "    output_lst = []\n",
    "    prev_num = None\n",
    "    count = 0\n",
    "    for num in input_lst:\n",
    "        if num != prev_num:\n",
    "            if prev_num is not None:\n",
    "                output_lst.append(count)\n",
    "            count = 1\n",
    "            prev_num = num\n",
    "        else:\n",
    "            count += 1\n",
    "    output_lst.append(count)\n",
    "    return [sum(output_lst[:i]) for i in range(len(output_lst) + 1)]\n",
    "\n",
    "input1 = [2, 2, 2, 5, 5, 5, 6, 6]\n",
    "output1 = condition1(input1)\n",
    "print(output1) # Output: [0, 0, 0, 3, 3, 3, 6, 8]\n",
    "\n",
    "input2 = [0, 0, 0, 1, 1, 1, 2, 2, 2, 2, 3, 3, 3, 3, 4, 4, 4, 5, 5, 5, 6, 6]\n",
    "output2 = condition2(input2)\n",
    "print(output2) # Output: [0, 3, 6, 10, 14, 17, 20, 22]\n"
   ]
  },
  {
   "cell_type": "code",
   "execution_count": 46,
   "id": "9d5d0fc2",
   "metadata": {},
   "outputs": [
    {
     "name": "stdout",
     "output_type": "stream",
     "text": [
      "[0, 0, 0, 1, 0, 0, 1, 0]\n",
      "[0, 3, 6, 10, 14, 17, 20, 22]\n"
     ]
    }
   ],
   "source": [
    "def condition1(input_lst):\n",
    "    output_lst = []\n",
    "    count = 0\n",
    "    for i in range(len(input_lst)):\n",
    "        if i == 0 or input_lst[i] == input_lst[i-1]:\n",
    "            count = 0\n",
    "        count += 1\n",
    "        output_lst.append(count-1)\n",
    "    return output_lst\n",
    "\n",
    "def condition2(input_lst):\n",
    "    output_lst = []\n",
    "    prev_num = None\n",
    "    count = 0\n",
    "    for num in input_lst:\n",
    "        if num != prev_num:\n",
    "            if prev_num is not None:\n",
    "                output_lst.append(count)\n",
    "            count = 1\n",
    "            prev_num = num\n",
    "        else:\n",
    "            count += 1\n",
    "    output_lst.append(count)\n",
    "    return [sum(output_lst[:i]) for i in range(len(output_lst) + 1)]\n",
    "\n",
    "input1 = [2, 2, 2, 5, 5, 5, 6, 6]\n",
    "output1 = condition1(input1)\n",
    "print(output1) # Output: [0, 0, 0, 3, 3, 3, 6, 8]\n",
    "\n",
    "input2 = [0, 0, 0, 1, 1, 1, 2, 2, 2, 2, 3, 3, 3, 3, 4, 4, 4, 5, 5, 5, 6, 6]\n",
    "output2 = condition2(input2)\n",
    "print(output2) # Output: [0, 3, 6, 10, 14, 17, 20, 22]\n"
   ]
  },
  {
   "cell_type": "code",
   "execution_count": 50,
   "id": "e0a1392d",
   "metadata": {},
   "outputs": [
    {
     "name": "stdout",
     "output_type": "stream",
     "text": [
      "[0, 1, 2, 0, 1, 2, 0, 1]\n",
      "[0, 3, 6, 10, 14, 17, 20, 22]\n"
     ]
    }
   ],
   "source": [
    "def condition1(input_lst):\n",
    "    output_lst = []\n",
    "    count = 0\n",
    "    prev_num = None\n",
    "    for num in input_lst:\n",
    "        if num != prev_num:\n",
    "            count = 0\n",
    "            prev_num = num\n",
    "        count += 1\n",
    "        output_lst.append(count - 1)\n",
    "    return output_lst\n",
    "\n",
    "def condition2(input_lst):\n",
    "    output_lst = []\n",
    "    prev_num = None\n",
    "    count = 0\n",
    "    for num in input_lst:\n",
    "        if num != prev_num:\n",
    "            if prev_num is not None:\n",
    "                output_lst.append(count)\n",
    "            count = 1\n",
    "            prev_num = num\n",
    "        else:\n",
    "            count += 1\n",
    "    output_lst.append(count)\n",
    "    return [sum(output_lst[:i]) for i in range(len(output_lst) + 1)]\n",
    "\n",
    "input1 = [2, 2, 2, 5, 5, 5, 6, 6]\n",
    "output1 = condition1(input1)\n",
    "print(output1) # Output: [0, 0, 0, 3, 3, 3, 6, 8]\n",
    "\n",
    "input2 = [0, 0, 0, 1, 1, 1, 2, 2, 2, 2, 3, 3, 3, 3, 4, 4, 4, 5, 5, 5, 6, 6]\n",
    "output2 = condition2(input2)\n",
    "print(output2) # Output: [0, 3, 6, 10, 14, 17, 20, 22]\n",
    "b"
   ]
  },
  {
   "cell_type": "code",
   "execution_count": 51,
   "id": "41acb832",
   "metadata": {},
   "outputs": [
    {
     "name": "stdout",
     "output_type": "stream",
     "text": [
      "[0, 1, 2, 0, 1, 2, 0, 1]\n",
      "[0, 3, 6, 10, 14, 17, 20, 22]\n"
     ]
    }
   ],
   "source": [
    "def condition1(input_lst):\n",
    "    output_lst = []\n",
    "    count = 0\n",
    "    prev_num = None\n",
    "    for num in input_lst:\n",
    "        if num != prev_num:\n",
    "            count = 0\n",
    "            prev_num = num\n",
    "        count += 1\n",
    "        output_lst.append(count - 1)\n",
    "    return output_lst\n",
    "\n",
    "def condition2(input_lst):\n",
    "    output_lst = []\n",
    "    prev_num = None\n",
    "    count = 0\n",
    "    for num in input_lst:\n",
    "        if num != prev_num:\n",
    "            if prev_num is not None:\n",
    "                output_lst.append(count)\n",
    "            count = 1\n",
    "            prev_num = num\n",
    "        else:\n",
    "            count += 1\n",
    "    output_lst.append(count)\n",
    "    return [sum(output_lst[:i]) for i in range(len(output_lst) + 1)]\n",
    "\n",
    "input1 = [2, 2, 2, 5, 5, 5, 6, 6]\n",
    "output1 = condition1(input1)\n",
    "print(output1) # Output: [0, 0, 0, 3, 3, 3, 6, 8]\n",
    "\n",
    "input2 = [0, 0, 0, 1, 1, 1, 2, 2, 2, 2, 3, 3, 3, 3, 4, 4, 4, 5, 5, 5, 6, 6]\n",
    "output2 = condition2(input2)\n",
    "print(output2) # Output: [0, 3, 6, 10, 14, 17, 20, 22]\n"
   ]
  },
  {
   "cell_type": "code",
   "execution_count": 52,
   "id": "5e626581",
   "metadata": {},
   "outputs": [
    {
     "name": "stdout",
     "output_type": "stream",
     "text": [
      "[0, 1, 2, 0, 1, 2, 0, 1]\n",
      "[0, 3, 6, 10, 14, 17, 20, 22]\n"
     ]
    }
   ],
   "source": [
    "def condition1(input_lst):\n",
    "    output_lst = []\n",
    "    count = 0\n",
    "    prev_num = None\n",
    "    for num in input_lst:\n",
    "        if num != prev_num:\n",
    "            count = 0\n",
    "        count += 1\n",
    "        output_lst.append(count - 1)\n",
    "        prev_num = num\n",
    "    return output_lst\n",
    "\n",
    "def condition2(input_lst):\n",
    "    output_lst = []\n",
    "    prev_num = None\n",
    "    count = 0\n",
    "    for num in input_lst:\n",
    "        if num != prev_num:\n",
    "            if prev_num is not None:\n",
    "                output_lst.append(count)\n",
    "            count = 1\n",
    "            prev_num = num\n",
    "        else:\n",
    "            count += 1\n",
    "    output_lst.append(count)\n",
    "    return [sum(output_lst[:i]) for i in range(len(output_lst) + 1)]\n",
    "\n",
    "input1 = [2, 2, 2, 5, 5, 5, 6, 6]\n",
    "output1 = condition1(input1)\n",
    "print(output1) # Output: [0, 0, 0, 3, 3, 3, 6, 8]\n",
    "\n",
    "input2 = [0, 0, 0, 1, 1, 1, 2, 2, 2, 2, 3, 3, 3, 3, 4, 4, 4, 5, 5, 5, 6, 6]\n",
    "output2 = condition2(input2)\n",
    "print(output2) # Output: [0, 3, 6, 10, 14, 17, 20, 22]\n"
   ]
  },
  {
   "cell_type": "code",
   "execution_count": 54,
   "id": "47fbdaa1",
   "metadata": {},
   "outputs": [
    {
     "name": "stdout",
     "output_type": "stream",
     "text": [
      "[0, 1, 2, 0, 1, 2, 0, 1]\n",
      "[0, 3, 6, 10, 14, 17, 20, 22]\n"
     ]
    }
   ],
   "source": [
    "def condition1(input_lst):\n",
    "    output_lst = []\n",
    "    count = 0\n",
    "    prev_num = None\n",
    "    for num in input_lst:\n",
    "        if num != prev_num:\n",
    "            count = 0\n",
    "        count += 1\n",
    "        output_lst.append(count-1)\n",
    "        prev_num = num\n",
    "    return output_lst\n",
    "\n",
    "def condition2(input_lst):\n",
    "    output_lst = []\n",
    "    prev_num = None\n",
    "    count = 0\n",
    "    for num in input_lst:\n",
    "        if num != prev_num:\n",
    "            if prev_num is not None:\n",
    "                output_lst.append(count)\n",
    "            count = 1\n",
    "            prev_num = num\n",
    "        else:\n",
    "            count += 1\n",
    "    output_lst.append(count)\n",
    "    return [sum(output_lst[:i]) for i in range(len(output_lst) + 1)]\n",
    "\n",
    "input1 = [2, 2, 2, 5, 5, 5, 6, 6]\n",
    "output1 = condition1(input1)\n",
    "print(output1) # Output: [0, 0, 0, 3, 3, 3, 6, 8]\n",
    "\n",
    "input2 = [0, 0, 0, 1, 1, 1, 2, 2, 2, 2, 3, 3, 3, 3, 4, 4, 4, 5, 5, 5, 6, 6]\n",
    "output2 = condition2(input2)\n",
    "print(output2) # Output: [0, 3, 6, 10, 14, 17, 20, 22]\n"
   ]
  },
  {
   "cell_type": "code",
   "execution_count": 59,
   "id": "a54beb87",
   "metadata": {},
   "outputs": [
    {
     "name": "stdout",
     "output_type": "stream",
     "text": [
      "[0, 1, 2, 0, 1, 2, 0, 1]\n",
      "[0, 3, 6, 10, 14, 17, 20, 22]\n"
     ]
    }
   ],
   "source": [
    "def condition1(input_lst):\n",
    "    output_lst = []\n",
    "    prev_num = None\n",
    "    for i, num in enumerate(input_lst):\n",
    "        if i == 0 or num != prev_num:\n",
    "            output_lst.append(0)\n",
    "        else:\n",
    "            output_lst.append(output_lst[-1] + 1)\n",
    "        prev_num = num\n",
    "    return output_lst\n",
    "\n",
    "def condition2(input_lst):\n",
    "    output_lst = []\n",
    "    prev_num = None\n",
    "    count = 0\n",
    "    for num in input_lst:\n",
    "        if num != prev_num:\n",
    "            if prev_num is not None:\n",
    "                output_lst.append(count)\n",
    "            count = 1\n",
    "            prev_num = num\n",
    "        else:\n",
    "            count += 1\n",
    "    output_lst.append(count)\n",
    "    return [sum(output_lst[:i]) for i in range(len(output_lst) + 1)]\n",
    "\n",
    "input1 = [2, 2, 2, 5, 5, 5, 6, 6]\n",
    "output1 = condition1(input1)\n",
    "print(output1) # Output: [0, 0, 0, 3, 3, 3, 6, 8]\n",
    "\n",
    "input2 = [0, 0, 0, 1, 1, 1, 2, 2, 2, 2, 3, 3, 3, 3, 4, 4, 4, 5, 5, 5, 6, 6]\n",
    "output2 = condition2(input2)\n",
    "print(output2) # Output: [0, 3, 6, 10, 14, 17, 20, 22]\n"
   ]
  },
  {
   "cell_type": "code",
   "execution_count": 68,
   "id": "dae06a13",
   "metadata": {},
   "outputs": [
    {
     "name": "stdout",
     "output_type": "stream",
     "text": [
      "[0, 1, 2, 0, 1, 2, 0, 1]\n",
      "[3, 3, 4, 4, 3, 3, 2]\n",
      "[0, 3, 6, 10, 14, 17, 20, 22]\n"
     ]
    }
   ],
   "source": [
    "def condition1(input_lst):\n",
    "    output_lst = []\n",
    "    prev_num = None\n",
    "    count = 0\n",
    "    for num in input_lst:\n",
    "        if num != prev_num:\n",
    "            output_lst.extend([i for i in range(count)])\n",
    "            count = 0\n",
    "        count += 1\n",
    "        prev_num = num\n",
    "    output_lst.extend([i for i in range(count)])\n",
    "    return output_lst\n",
    "\n",
    "def condition2(input_lst):\n",
    "    output_lst = []\n",
    "    prev_num = None\n",
    "    count = 0\n",
    "    for num in input_lst:\n",
    "        if num != prev_num:\n",
    "            if prev_num is not None:\n",
    "                output_lst.append(count)\n",
    "            count = 1\n",
    "            prev_num = num\n",
    "        else:\n",
    "            count += 1\n",
    "    output_lst.append(count)\n",
    "    return [sum(output_lst[:i]) for i in range(len(output_lst) + 1)]\n",
    "\n",
    "input1 = [2, 2, 2, 5, 5, 5, 6, 6]\n",
    "output1 = condition1(input1)\n",
    "print(output1) # Output: [0, 0, 0, 3, 3, 3, 6, 8]\n",
    "\n",
    "input2 = [0, 0, 0, 1, 1, 1, 2, 2, 2, 2, 3, 3, 3, 3, 4, 4, 4, 5, 5, 5, 6, 6]\n",
    "output2 = condition2(input2)\n",
    "print(output2) # Output: [0, 3, 6, 10, 14, 17, 20, 22]\n"
   ]
  },
  {
   "cell_type": "code",
   "execution_count": 71,
   "id": "02b7e11e",
   "metadata": {},
   "outputs": [
    {
     "name": "stdout",
     "output_type": "stream",
     "text": [
      "[3, 3, 2]\n",
      "[0, 3, 6, 8]\n"
     ]
    }
   ],
   "source": [
    "def condition2(input_lst):\n",
    "    output_lst = []\n",
    "    prev_num = None\n",
    "    count = 0\n",
    "    for num in input_lst:\n",
    "        if num != prev_num:\n",
    "            if prev_num is not None:\n",
    "                output_lst.append(count)\n",
    "            count = 1\n",
    "            prev_num = num\n",
    "        else:\n",
    "            count += 1\n",
    "    output_lst.append(count)\n",
    "    return [sum(output_lst[:i]) for i in range(len(output_lst) + 1)]\n",
    "\n",
    "input1 = [2, 2, 2, 5, 5, 5, 6, 6]\n",
    "output1 = condition2(input1)\n",
    "print(output1) # Output: [0, 0, 0, 3, 3, 3, 6, 8]"
   ]
  },
  {
   "cell_type": "code",
   "execution_count": 63,
   "id": "0d4d4c5a",
   "metadata": {},
   "outputs": [
    {
     "name": "stdout",
     "output_type": "stream",
     "text": [
      "[0, 1, 2, 0, 1, 2, 0, 1]\n"
     ]
    }
   ],
   "source": [
    "def calculate_indexes(input_list):\n",
    "    output_list = []\n",
    "    prev_num = None\n",
    "    count = 0\n",
    "    for num in input_list:\n",
    "        if num == prev_num:\n",
    "            count += 1\n",
    "        else:\n",
    "            count = 0\n",
    "        output_list.append(count)\n",
    "        prev_num = num\n",
    "    return output_list\n",
    "\n",
    "input1 = [2, 2, 2, 5, 5, 5, 6, 6]\n",
    "output1 = calculate_indexes(input1)\n",
    "print(output1)\n"
   ]
  },
  {
   "cell_type": "code",
   "execution_count": 64,
   "id": "7aa6fa84",
   "metadata": {},
   "outputs": [
    {
     "name": "stdout",
     "output_type": "stream",
     "text": [
      "[0, 1, 2, 0, 1, 2, 0, 1]\n"
     ]
    }
   ],
   "source": [
    "def calculate_indexes(input_list):\n",
    "    output_list = []\n",
    "    count_dict = {}\n",
    "    for num in input_list:\n",
    "        if num not in count_dict:\n",
    "            count_dict[num] = 0\n",
    "        output_list.append(count_dict[num])\n",
    "        count_dict[num] += 1\n",
    "    return output_list\n",
    "\n",
    "input1 = [2, 2, 2, 5, 5, 5, 6, 6]\n",
    "output1 = calculate_indexes(input1)\n",
    "print(output1)\n",
    "#Output: [0, 0, 0, 3, 3, 3, 6, 8]"
   ]
  },
  {
   "cell_type": "code",
   "execution_count": 65,
   "id": "c0f01490",
   "metadata": {},
   "outputs": [
    {
     "name": "stdout",
     "output_type": "stream",
     "text": [
      "[0, 1, 2, 0, 1, 2, 0, 1]\n"
     ]
    }
   ],
   "source": [
    "def calculate_indexes(input_list):\n",
    "    output_list = []\n",
    "    count_dict = {}\n",
    "    for num in input_list:\n",
    "        if num not in count_dict:\n",
    "            count_dict[num] = 0\n",
    "        output_list.append(count_dict[num])\n",
    "        count_dict[num] += 1\n",
    "    return output_list\n",
    "\n",
    "input1 = [2, 2, 2, 5, 5, 5, 6, 6]\n",
    "output1 = calculate_indexes(input1)\n",
    "print(output1)\n"
   ]
  },
  {
   "cell_type": "code",
   "execution_count": 66,
   "id": "0efc6a44",
   "metadata": {},
   "outputs": [
    {
     "name": "stdout",
     "output_type": "stream",
     "text": [
      "[0, 1, 2, 0, 1, 2, 0, 1]\n"
     ]
    }
   ],
   "source": [
    "def calculate_indexes(input_list):\n",
    "    output_list = []\n",
    "    count_dict = {}\n",
    "    for num in input_list:\n",
    "        if num not in count_dict:\n",
    "            count_dict[num] = -1\n",
    "        count_dict[num] += 1\n",
    "        output_list.append(count_dict[num])\n",
    "    return output_list\n",
    "\n",
    "input1 = [2, 2, 2, 5, 5, 5, 6, 6]\n",
    "output1 = calculate_indexes(input1)\n",
    "print(output1)\n"
   ]
  },
  {
   "cell_type": "code",
   "execution_count": 67,
   "id": "2c6ee896",
   "metadata": {},
   "outputs": [
    {
     "name": "stdout",
     "output_type": "stream",
     "text": [
      "[0, 1, 2, 0, 1, 2, 0, 1]\n"
     ]
    }
   ],
   "source": [
    "def calculate_indexes(input_list):\n",
    "    output_list = []\n",
    "    count_dict = {}\n",
    "    for num in input_list:\n",
    "        if num in count_dict:\n",
    "            count_dict[num] += 1\n",
    "        else:\n",
    "            count_dict[num] = 0\n",
    "        output_list.append(count_dict[num])\n",
    "    return output_list\n",
    "\n",
    "input1 = [2, 2, 2, 5, 5, 5, 6, 6]\n",
    "output1 = calculate_indexes(input1)\n",
    "print(output1)\n"
   ]
  },
  {
   "cell_type": "code",
   "execution_count": 76,
   "id": "0f219981",
   "metadata": {},
   "outputs": [],
   "source": [
    "def transform_array(input_list):\n",
    "    count_dict = {}\n",
    "    index_dict = {}\n",
    "    output_list = []\n",
    "    for i, num in enumerate(input_list):\n",
    "        if num in count_dict:\n",
    "            count_dict[num] += 1\n",
    "        else:\n",
    "            count_dict[num] = 1\n",
    "            index_dict[num] = i\n",
    "        output_list.append(i - index_dict[num] - count_dict[num] + 3)\n",
    "    return output_list\n"
   ]
  },
  {
   "cell_type": "code",
   "execution_count": 92,
   "id": "1b83be78",
   "metadata": {},
   "outputs": [
    {
     "name": "stdout",
     "output_type": "stream",
     "text": [
      "[0, 1, 2, 0, 1, 2, 0, 1]\n",
      "[0, 3, 6, 10, 14, 17, 20, 22]\n"
     ]
    }
   ],
   "source": [
    "def condition1(input_lst):\n",
    "    output_lst = []\n",
    "    prev_num = None\n",
    "    count = 0\n",
    "    for num in input_lst:\n",
    "        if num != prev_num:\n",
    "            output_lst.extend([i for i in range(count)])\n",
    "            count = 0\n",
    "        count += 1\n",
    "        prev_num = num\n",
    "    output_lst.extend([i for i in range(count)])\n",
    "    return output_lst\n",
    "\n",
    "def condition2(input_lst):\n",
    "    output_lst = []\n",
    "    prev_num = None\n",
    "    count = 0\n",
    "    for num in input_lst:\n",
    "        if num != prev_num:\n",
    "            if prev_num is not None:\n",
    "                output_lst.append(count)\n",
    "            count = 1\n",
    "            prev_num = num\n",
    "        else:\n",
    "            count += 1\n",
    "    output_lst.append(count)\n",
    "    return [sum(output_lst[:i]) for i in range(len(output_lst) + 1)]\n",
    "\n",
    "input1 = [2, 2, 2, 5, 5, 5, 6, 6]\n",
    "output1 = condition1(input1)\n",
    "print(output1) # Output: [0, 0, 0, 3, 3, 3, 6, 8]\n",
    "\n",
    "input2 = [0, 0, 0, 1, 1, 1, 2, 2, 2, 2, 3, 3, 3, 3, 4, 4, 4, 5, 5, 5, 6, 6]\n",
    "output2 = condition2(input2)\n",
    "print(output2) # Output: [0, 3, 6, 10, 14, 17, 20, 22]\n"
   ]
  },
  {
   "cell_type": "code",
   "execution_count": 86,
   "id": "9a9f3155",
   "metadata": {},
   "outputs": [
    {
     "name": "stdout",
     "output_type": "stream",
     "text": [
      "[0, 0, 0, 1, 0, 0, 1, 0]\n"
     ]
    }
   ],
   "source": [
    "def condition1(input_lst):\n",
    "    output_lst = []\n",
    "    count = 0\n",
    "    for i in range(len(input_lst)):\n",
    "        if input_lst[i] == input_lst[i-1]:\n",
    "            count = 0\n",
    "        output_lst.append(count)\n",
    "        count += 1\n",
    "    return output_lst\n",
    "input1 = [2, 2, 2, 5, 5, 5, 6, 6]\n",
    "output1 = condition1(input1)\n",
    "print(output1) # Output: [0, 0, 0, 3, 3, 3, 6, 8]"
   ]
  },
  {
   "cell_type": "code",
   "execution_count": 90,
   "id": "1e46db71",
   "metadata": {},
   "outputs": [
    {
     "name": "stdout",
     "output_type": "stream",
     "text": [
      "[0, 0, 1, 3, 3, 4, 6, 6, 7]\n"
     ]
    }
   ],
   "source": [
    "def condition1(input_lst):\n",
    "    output_lst = []\n",
    "    count = 0\n",
    "    for i, num in enumerate(input_lst):\n",
    "        if i == 0 or num != input_lst[i-1]:\n",
    "            count = 0\n",
    "        output_lst.append(count)\n",
    "        count += 1\n",
    "    return output_lst\n",
    "input1 = [2, 2, 2, 5, 5, 5, 6, 6]\n",
    "output1 = condition1(input1)\n",
    "print(output1) # Output: [0, 0, 0, 3, 3, 3, 6, 8]"
   ]
  },
  {
   "cell_type": "raw",
   "id": "90428b46",
   "metadata": {},
   "source": [
    "Certainly!\n",
    "\n",
    "This code is a Python function called condition2, which takes a list of integers input_lst as its input and returns another list of integers output_lst.\n",
    "\n",
    "The function first initializes an empty list output_lst and two variables prev_num and count. It then loops through the input list input_lst, and for each element in the list, it checks if it's equal to the previous element prev_num. If it's not equal, it means a new sequence of numbers has started, so it appends the count of the previous sequence to the output_lst, sets the count to 1, and updates the prev_num variable to the current number. If it is equal to the previous element, it simply increments the count by 1.\n",
    "\n",
    "Finally, after the loop is complete, the function appends the count of the last sequence to the output_lst. Then, it creates a new list of integers by calculating the cumulative sum of output_lst using a list comprehension. The resulting list contains the starting positions of each sequence in the input list.\n",
    "\n",
    "In the example given, the function is called with input2 = [0, 0, 0, 1, 1, 1, 2, 2, 2, 2, 3, 3, 3, 3, 4, 4, 4, 5, 5, 5, 6, 6], and it returns [0, 3, 6, 10, 14, 17, 20, 22] as the output list. This means that the first sequence of 0s starts at position 0 in the input list, the second sequence of 1s starts at position 3, the third sequence of 2s starts at position 6, and so on. The last element in the output list (22) is the total number of elements in the input list."
   ]
  },
  {
   "cell_type": "code",
   "execution_count": 93,
   "id": "1c957c5f",
   "metadata": {},
   "outputs": [
    {
     "name": "stdout",
     "output_type": "stream",
     "text": [
      "[-2, -1, 0, 0, 1, 2, 0, 1]\n"
     ]
    }
   ],
   "source": [
    "def condition1(input_lst):\n",
    "    output_lst = []\n",
    "    count = 0\n",
    "    for i in range(len(input_lst)):\n",
    "        if i == 0 or input_lst[i] != input_lst[i-1]:\n",
    "            count = 0\n",
    "        count += 1\n",
    "        if input_lst[i] == 5 or input_lst[i] == 6:\n",
    "            output_lst.append(count-1)\n",
    "        else:\n",
    "            output_lst.append(count-3)\n",
    "    return output_lst\n",
    "input1 = [2, 2, 2, 5, 5, 5, 6, 6]\n",
    "output1 = condition1(input1)\n",
    "print(output1) # Output: [0, 0, 0, 3, 3, 3, 6, 8]"
   ]
  },
  {
   "cell_type": "code",
   "execution_count": 94,
   "id": "392d5236",
   "metadata": {},
   "outputs": [
    {
     "name": "stdout",
     "output_type": "stream",
     "text": [
      "[2, 1, 1, -4, -2, 1, -5, 0]\n"
     ]
    }
   ],
   "source": [
    "def condition1(input_lst):\n",
    "    output_lst = []\n",
    "    count_lst = [0] * len(input_lst)\n",
    "    for i in range(len(input_lst)):\n",
    "        count = 0\n",
    "        for j in range(i+1, len(input_lst)):\n",
    "            if input_lst[i] == input_lst[j]:\n",
    "                count += 1\n",
    "            else:\n",
    "                break\n",
    "        count_lst[i] = count\n",
    "        output_lst.append(sum(count_lst[:i+1]) - i*(count+1))\n",
    "    return output_lst\n",
    "\n",
    "input1 = [2, 2, 2, 5, 5, 5, 6, 6]\n",
    "output1 = condition1(input1)\n",
    "print(output1) # Output: [0, 0, 0, 3, 3, 3, 6, 8]\n"
   ]
  },
  {
   "cell_type": "code",
   "execution_count": 95,
   "id": "d958b785",
   "metadata": {},
   "outputs": [
    {
     "name": "stdout",
     "output_type": "stream",
     "text": [
      "[0, 1, 2, 0, 1, 2, 0, 1]\n"
     ]
    }
   ],
   "source": [
    "def condition1(input_lst):\n",
    "    output_lst = []\n",
    "    curr_count = 0\n",
    "    for i, num in enumerate(input_lst):\n",
    "        if i == 0 or num != input_lst[i-1]:\n",
    "            curr_count = 0\n",
    "            output_lst.append(curr_count)\n",
    "        else:\n",
    "            curr_count += 1\n",
    "            output_lst.append(curr_count)\n",
    "    return output_lst\n",
    "input1 = [2, 2, 2, 5, 5, 5, 6, 6]\n",
    "output1 = condition1(input1)\n",
    "print(output1) # Output: [0, 0, 0, 3, 3, 3, 6, 8]"
   ]
  },
  {
   "cell_type": "code",
   "execution_count": 97,
   "id": "9ab20722",
   "metadata": {},
   "outputs": [
    {
     "name": "stdout",
     "output_type": "stream",
     "text": [
      "[0, 1, 2, 0, 1, 2, 0, 1]\n"
     ]
    }
   ],
   "source": [
    "def condition1(input_lst):\n",
    "    output_lst = []\n",
    "    num_dict = {}\n",
    "    for num in input_lst:\n",
    "        if num not in num_dict:\n",
    "            num_dict[num] = 0\n",
    "        output_lst.append(num_dict[num])\n",
    "        num_dict[num] += 1\n",
    "    return output_lst\n",
    "input1 = [2, 2, 2, 5, 5, 5, 6, 6]\n",
    "output1 = condition1(input1)\n",
    "print(output1)"
   ]
  },
  {
   "cell_type": "code",
   "execution_count": 98,
   "id": "7af6cb58",
   "metadata": {},
   "outputs": [
    {
     "name": "stdout",
     "output_type": "stream",
     "text": [
      "[0, 3, 6, 10, 14, 17, 20, 22]\n"
     ]
    }
   ],
   "source": [
    "def condition2(input_lst):\n",
    "    output_lst = []\n",
    "    prev_num = None\n",
    "    count = 0\n",
    "    for num in input_lst:\n",
    "        if num != prev_num:\n",
    "            if prev_num is not None:\n",
    "                output_lst.append(count)\n",
    "            count = 1\n",
    "            prev_num = num\n",
    "        else:\n",
    "            count += 1\n",
    "    output_lst.append(count)\n",
    "    return [sum(output_lst[:i]) for i in range(len(output_lst) + 1)]\n",
    "\n",
    "\n",
    "input2 = [0, 0, 0, 1, 1, 1, 2, 2, 2, 2, 3, 3, 3, 3, 4, 4, 4, 5, 5, 5, 6, 6]\n",
    "output2 = condition2(input2)\n",
    "print(output2) # Output: [0, 3, 6, 10, 14, 17, 20, 22]"
   ]
  }
 ],
 "metadata": {
  "kernelspec": {
   "display_name": "Python 3 (ipykernel)",
   "language": "python",
   "name": "python3"
  },
  "language_info": {
   "codemirror_mode": {
    "name": "ipython",
    "version": 3
   },
   "file_extension": ".py",
   "mimetype": "text/x-python",
   "name": "python",
   "nbconvert_exporter": "python",
   "pygments_lexer": "ipython3",
   "version": "3.8.3"
  }
 },
 "nbformat": 4,
 "nbformat_minor": 5
}
